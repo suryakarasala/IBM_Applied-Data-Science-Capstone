{
  "nbformat": 4,
  "nbformat_minor": 0,
  "metadata": {
    "colab": {
      "name": "Week_1 _Capstone_Project.ipynb",
      "provenance": [],
      "authorship_tag": "ABX9TyNGxbpl3hkbexXgH+ztRRE5",
      "include_colab_link": true
    },
    "kernelspec": {
      "name": "python3",
      "display_name": "Python 3"
    },
    "language_info": {
      "name": "python"
    }
  },
  "cells": [
    {
      "cell_type": "markdown",
      "metadata": {
        "id": "view-in-github",
        "colab_type": "text"
      },
      "source": [
        "<a href=\"https://colab.research.google.com/github/suryakarasala/IBM_Applied-Data-Science-Capstone/blob/main/Week_1__Capstone_Project.ipynb\" target=\"_parent\"><img src=\"https://colab.research.google.com/assets/colab-badge.svg\" alt=\"Open In Colab\"/></a>"
      ]
    },
    {
      "cell_type": "markdown",
      "metadata": {
        "id": "d8ZY6-i_GuW1"
      },
      "source": [
        "# Applie Data Science Capstone\n",
        "This notebook is the assignment for Coursera Applied Data Science Capstone"
      ]
    },
    {
      "cell_type": "code",
      "metadata": {
        "id": "k0p0bZEsG4CH"
      },
      "source": [
        "import pandas as pd\n",
        "import numpy as np"
      ],
      "execution_count": 2,
      "outputs": []
    },
    {
      "cell_type": "code",
      "metadata": {
        "colab": {
          "base_uri": "https://localhost:8080/"
        },
        "id": "eHLqEgzQG9UM",
        "outputId": "06bd9641-2055-48d1-ce8a-3a02407f3b07"
      },
      "source": [
        "print (\"Hello Capstone Project Course!\")"
      ],
      "execution_count": 3,
      "outputs": [
        {
          "output_type": "stream",
          "text": [
            "Hello Capstone Project Course!\n"
          ],
          "name": "stdout"
        }
      ]
    }
  ]
}